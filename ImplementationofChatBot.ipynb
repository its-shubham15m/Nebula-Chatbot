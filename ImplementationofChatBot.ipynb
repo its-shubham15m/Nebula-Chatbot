{
 "cells": [
  {
   "cell_type": "markdown",
   "id": "6940abda-2f25-4af2-8ce0-7d7942971517",
   "metadata": {},
   "source": [
    "# **Implementation of Chatbot using NLP**"
   ]
  },
  {
   "cell_type": "markdown",
   "id": "d9b4a870",
   "metadata": {},
   "source": [
    "# Nebula - AI Chatbot 🌌\n",
    "### *Developed by Shubham Gupta*"
   ]
  },
  {
   "cell_type": "code",
   "execution_count": 1,
   "id": "9445ca24-41b3-4576-8407-641e794cc7e7",
   "metadata": {},
   "outputs": [
    {
     "name": "stdout",
     "output_type": "stream",
     "text": [
      "Looking in indexes: https://pypi.org/simple, https://pypi.ngc.nvidia.com\n",
      "Requirement already satisfied: nltk in c:\\users\\shubham\\anaconda3\\envs\\nebula\\lib\\site-packages (3.9.1)\n",
      "Requirement already satisfied: scikit-learn in c:\\users\\shubham\\anaconda3\\envs\\nebula\\lib\\site-packages (1.6.1)\n",
      "Requirement already satisfied: streamlit in c:\\users\\shubham\\anaconda3\\envs\\nebula\\lib\\site-packages (1.42.2)\n",
      "Requirement already satisfied: click in c:\\users\\shubham\\anaconda3\\envs\\nebula\\lib\\site-packages (from nltk) (8.1.8)\n",
      "Requirement already satisfied: joblib in c:\\users\\shubham\\anaconda3\\envs\\nebula\\lib\\site-packages (from nltk) (1.4.2)\n",
      "Requirement already satisfied: regex>=2021.8.3 in c:\\users\\shubham\\anaconda3\\envs\\nebula\\lib\\site-packages (from nltk) (2024.11.6)\n",
      "Requirement already satisfied: tqdm in c:\\users\\shubham\\anaconda3\\envs\\nebula\\lib\\site-packages (from nltk) (4.67.1)\n",
      "Requirement already satisfied: numpy>=1.19.5 in c:\\users\\shubham\\anaconda3\\envs\\nebula\\lib\\site-packages (from scikit-learn) (2.2.3)\n",
      "Requirement already satisfied: scipy>=1.6.0 in c:\\users\\shubham\\anaconda3\\envs\\nebula\\lib\\site-packages (from scikit-learn) (1.15.2)\n",
      "Requirement already satisfied: threadpoolctl>=3.1.0 in c:\\users\\shubham\\anaconda3\\envs\\nebula\\lib\\site-packages (from scikit-learn) (3.5.0)\n",
      "Requirement already satisfied: altair<6,>=4.0 in c:\\users\\shubham\\anaconda3\\envs\\nebula\\lib\\site-packages (from streamlit) (5.5.0)\n",
      "Requirement already satisfied: blinker<2,>=1.0.0 in c:\\users\\shubham\\anaconda3\\envs\\nebula\\lib\\site-packages (from streamlit) (1.9.0)\n",
      "Requirement already satisfied: cachetools<6,>=4.0 in c:\\users\\shubham\\anaconda3\\envs\\nebula\\lib\\site-packages (from streamlit) (5.5.2)\n",
      "Requirement already satisfied: packaging<25,>=20 in c:\\users\\shubham\\anaconda3\\envs\\nebula\\lib\\site-packages (from streamlit) (24.2)\n",
      "Requirement already satisfied: pandas<3,>=1.4.0 in c:\\users\\shubham\\anaconda3\\envs\\nebula\\lib\\site-packages (from streamlit) (2.2.3)\n",
      "Requirement already satisfied: pillow<12,>=7.1.0 in c:\\users\\shubham\\anaconda3\\envs\\nebula\\lib\\site-packages (from streamlit) (11.1.0)\n",
      "Requirement already satisfied: protobuf<6,>=3.20 in c:\\users\\shubham\\anaconda3\\envs\\nebula\\lib\\site-packages (from streamlit) (5.29.3)\n",
      "Requirement already satisfied: pyarrow>=7.0 in c:\\users\\shubham\\anaconda3\\envs\\nebula\\lib\\site-packages (from streamlit) (19.0.1)\n",
      "Requirement already satisfied: requests<3,>=2.27 in c:\\users\\shubham\\anaconda3\\envs\\nebula\\lib\\site-packages (from streamlit) (2.32.3)\n",
      "Requirement already satisfied: rich<14,>=10.14.0 in c:\\users\\shubham\\anaconda3\\envs\\nebula\\lib\\site-packages (from streamlit) (13.9.4)\n",
      "Requirement already satisfied: tenacity<10,>=8.1.0 in c:\\users\\shubham\\anaconda3\\envs\\nebula\\lib\\site-packages (from streamlit) (9.0.0)\n",
      "Requirement already satisfied: toml<2,>=0.10.1 in c:\\users\\shubham\\anaconda3\\envs\\nebula\\lib\\site-packages (from streamlit) (0.10.2)\n",
      "Requirement already satisfied: typing-extensions<5,>=4.4.0 in c:\\users\\shubham\\anaconda3\\envs\\nebula\\lib\\site-packages (from streamlit) (4.12.2)\n",
      "Requirement already satisfied: watchdog<7,>=2.1.5 in c:\\users\\shubham\\anaconda3\\envs\\nebula\\lib\\site-packages (from streamlit) (6.0.0)\n",
      "Requirement already satisfied: gitpython!=3.1.19,<4,>=3.0.7 in c:\\users\\shubham\\anaconda3\\envs\\nebula\\lib\\site-packages (from streamlit) (3.1.44)\n",
      "Requirement already satisfied: pydeck<1,>=0.8.0b4 in c:\\users\\shubham\\anaconda3\\envs\\nebula\\lib\\site-packages (from streamlit) (0.9.1)\n",
      "Requirement already satisfied: tornado<7,>=6.0.3 in c:\\users\\shubham\\anaconda3\\envs\\nebula\\lib\\site-packages (from streamlit) (6.4.2)\n",
      "Requirement already satisfied: jinja2 in c:\\users\\shubham\\anaconda3\\envs\\nebula\\lib\\site-packages (from altair<6,>=4.0->streamlit) (3.1.5)\n",
      "Requirement already satisfied: jsonschema>=3.0 in c:\\users\\shubham\\anaconda3\\envs\\nebula\\lib\\site-packages (from altair<6,>=4.0->streamlit) (4.23.0)\n",
      "Requirement already satisfied: narwhals>=1.14.2 in c:\\users\\shubham\\anaconda3\\envs\\nebula\\lib\\site-packages (from altair<6,>=4.0->streamlit) (1.28.0)\n",
      "Requirement already satisfied: colorama in c:\\users\\shubham\\anaconda3\\envs\\nebula\\lib\\site-packages (from click->nltk) (0.4.6)\n",
      "Requirement already satisfied: gitdb<5,>=4.0.1 in c:\\users\\shubham\\anaconda3\\envs\\nebula\\lib\\site-packages (from gitpython!=3.1.19,<4,>=3.0.7->streamlit) (4.0.12)\n",
      "Requirement already satisfied: python-dateutil>=2.8.2 in c:\\users\\shubham\\anaconda3\\envs\\nebula\\lib\\site-packages (from pandas<3,>=1.4.0->streamlit) (2.9.0.post0)\n",
      "Requirement already satisfied: pytz>=2020.1 in c:\\users\\shubham\\anaconda3\\envs\\nebula\\lib\\site-packages (from pandas<3,>=1.4.0->streamlit) (2025.1)\n",
      "Requirement already satisfied: tzdata>=2022.7 in c:\\users\\shubham\\anaconda3\\envs\\nebula\\lib\\site-packages (from pandas<3,>=1.4.0->streamlit) (2025.1)\n",
      "Requirement already satisfied: charset-normalizer<4,>=2 in c:\\users\\shubham\\anaconda3\\envs\\nebula\\lib\\site-packages (from requests<3,>=2.27->streamlit) (3.4.1)\n",
      "Requirement already satisfied: idna<4,>=2.5 in c:\\users\\shubham\\anaconda3\\envs\\nebula\\lib\\site-packages (from requests<3,>=2.27->streamlit) (3.10)\n",
      "Requirement already satisfied: urllib3<3,>=1.21.1 in c:\\users\\shubham\\anaconda3\\envs\\nebula\\lib\\site-packages (from requests<3,>=2.27->streamlit) (2.3.0)\n",
      "Requirement already satisfied: certifi>=2017.4.17 in c:\\users\\shubham\\anaconda3\\envs\\nebula\\lib\\site-packages (from requests<3,>=2.27->streamlit) (2025.1.31)\n",
      "Requirement already satisfied: markdown-it-py>=2.2.0 in c:\\users\\shubham\\anaconda3\\envs\\nebula\\lib\\site-packages (from rich<14,>=10.14.0->streamlit) (3.0.0)\n",
      "Requirement already satisfied: pygments<3.0.0,>=2.13.0 in c:\\users\\shubham\\anaconda3\\envs\\nebula\\lib\\site-packages (from rich<14,>=10.14.0->streamlit) (2.19.1)\n",
      "Requirement already satisfied: smmap<6,>=3.0.1 in c:\\users\\shubham\\anaconda3\\envs\\nebula\\lib\\site-packages (from gitdb<5,>=4.0.1->gitpython!=3.1.19,<4,>=3.0.7->streamlit) (5.0.2)\n",
      "Requirement already satisfied: MarkupSafe>=2.0 in c:\\users\\shubham\\anaconda3\\envs\\nebula\\lib\\site-packages (from jinja2->altair<6,>=4.0->streamlit) (3.0.2)\n",
      "Requirement already satisfied: attrs>=22.2.0 in c:\\users\\shubham\\anaconda3\\envs\\nebula\\lib\\site-packages (from jsonschema>=3.0->altair<6,>=4.0->streamlit) (25.1.0)\n",
      "Requirement already satisfied: jsonschema-specifications>=2023.03.6 in c:\\users\\shubham\\anaconda3\\envs\\nebula\\lib\\site-packages (from jsonschema>=3.0->altair<6,>=4.0->streamlit) (2024.10.1)\n",
      "Requirement already satisfied: referencing>=0.28.4 in c:\\users\\shubham\\anaconda3\\envs\\nebula\\lib\\site-packages (from jsonschema>=3.0->altair<6,>=4.0->streamlit) (0.36.2)\n",
      "Requirement already satisfied: rpds-py>=0.7.1 in c:\\users\\shubham\\anaconda3\\envs\\nebula\\lib\\site-packages (from jsonschema>=3.0->altair<6,>=4.0->streamlit) (0.23.1)\n",
      "Requirement already satisfied: mdurl~=0.1 in c:\\users\\shubham\\anaconda3\\envs\\nebula\\lib\\site-packages (from markdown-it-py>=2.2.0->rich<14,>=10.14.0->streamlit) (0.1.2)\n",
      "Requirement already satisfied: six>=1.5 in c:\\users\\shubham\\anaconda3\\envs\\nebula\\lib\\site-packages (from python-dateutil>=2.8.2->pandas<3,>=1.4.0->streamlit) (1.17.0)\n",
      "Note: you may need to restart the kernel to use updated packages.\n"
     ]
    }
   ],
   "source": [
    "pip install nltk scikit-learn streamlit"
   ]
  },
  {
   "cell_type": "code",
   "execution_count": 2,
   "id": "4e35e659-3285-404b-aea4-e553c12dfb74",
   "metadata": {},
   "outputs": [],
   "source": [
    "# Importing necessary libraries\n",
    "import nltk\n",
    "import random\n",
    "import os\n",
    "import ssl\n",
    "import streamlit as st\n",
    "from sklearn.feature_extraction.text import TfidfVectorizer\n",
    "from sklearn.linear_model import LogisticRegression"
   ]
  },
  {
   "cell_type": "code",
   "execution_count": 3,
   "id": "54240306-f495-4e08-a9a3-3cebf1b1b33f",
   "metadata": {},
   "outputs": [
    {
     "name": "stderr",
     "output_type": "stream",
     "text": [
      "[nltk_data] Downloading package punkt to\n",
      "[nltk_data]     C:\\Users\\Shubham\\AppData\\Roaming\\nltk_data...\n",
      "[nltk_data]   Package punkt is already up-to-date!\n"
     ]
    },
    {
     "data": {
      "text/plain": [
       "True"
      ]
     },
     "execution_count": 3,
     "metadata": {},
     "output_type": "execute_result"
    }
   ],
   "source": [
    "ssl._create_default_https_context = ssl._create_unverified_context\n",
    "nltk.data.path.append(os.path.abspath('nltk_data'))\n",
    "nltk.download('punkt')"
   ]
  },
  {
   "cell_type": "code",
   "execution_count": 5,
   "id": "2621b119",
   "metadata": {},
   "outputs": [],
   "source": [
    "# Chatbot Information\n",
    "chatbot_info = {\n",
    "    \"name\": \"Nebula\",\n",
    "    \"developer\": \"Shubham Gupta\",\n",
    "    \"version\": \"1.0\",\n",
    "    \"description\": \"Nebula is an AI-powered chatbot designed to assist users with queries, provide information, and engage in conversations using NLP.\"\n",
    "}"
   ]
  },
  {
   "cell_type": "code",
   "execution_count": 7,
   "id": "33546571-46c5-4046-9f0a-2593fc86f5e7",
   "metadata": {},
   "outputs": [],
   "source": [
    "intents = [\n",
    "    {\n",
    "        'tag': 'greeting',\n",
    "        'patterns': ['Hi', 'Hello', 'Hey', 'What\\'s up', 'How are you'],\n",
    "        'responses': ['Hi there!', 'Hello!', 'Hey!', 'Nothing much, how about you?', 'I\\'m fine, thank you!']\n",
    "    },\n",
    "    {\n",
    "        'tag': 'goodbye',\n",
    "        'patterns': ['Bye', 'See you later', 'Goodbye', 'Take care'],\n",
    "        'responses': ['Goodbye!', 'See you later!', 'Take care!']\n",
    "    },\n",
    "    {\n",
    "        \"tag\": \"thanks\",\n",
    "        \"patterns\": [\"Thank you\", \"Thanks\", \"Thanks a lot\", \"I appreciate it\"],\n",
    "        \"responses\": [\"You're welcome!\", \"No problem!\", \"Glad I could help!\", \"Anytime!\"]\n",
    "    },\n",
    "    {\n",
    "        \"tag\": \"about\",\n",
    "        \"patterns\": [\"What can you do?\", \"Who are you?\", \"What are you?\", \"What is your purpose?\"],\n",
    "        \"responses\": [\n",
    "            \"I am Nebula, an AI chatbot designed to assist you!\",\n",
    "            \"My purpose is to answer your questions and provide useful information.\",\n",
    "            \"I can chat, provide facts, and help with various topics!\"\n",
    "        ]\n",
    "    },\n",
    "    {\n",
    "        \"tag\": \"help\",\n",
    "        \"patterns\": [\"Help\", \"I need help\", \"Can you help me?\", \"What should I do?\"],\n",
    "        \"responses\": [\n",
    "            \"Sure, what do you need help with?\",\n",
    "            \"I'm here to assist you. Let me know your query!\",\n",
    "            \"How can I assist you today?\"\n",
    "        ]\n",
    "    },\n",
    "    {\n",
    "        \"tag\": \"age\",\n",
    "        \"patterns\": [\"How old are you?\", \"What's your age?\"],\n",
    "        \"responses\": [\n",
    "            \"I don't have an age. I'm an AI chatbot, always learning and improving!\",\n",
    "            \"I was created recently, but I have infinite knowledge!\",\n",
    "            \"Age is just a number, and I don’t age!\"\n",
    "        ]\n",
    "    },\n",
    "    {\n",
    "        \"tag\": \"weather\",\n",
    "        \"patterns\": [\"What's the weather like?\", \"How's the weather today?\", \"Tell me the weather\"],\n",
    "        \"responses\": [\n",
    "            \"I can't fetch real-time weather updates, but you can check a weather website.\",\n",
    "            \"Try searching on Google or using a weather app for the latest updates!\"\n",
    "        ]\n",
    "    },\n",
    "    {\n",
    "        \"tag\": \"budget\",\n",
    "        \"patterns\": [\"How can I make a budget?\", \"What's a good budgeting strategy?\", \"How do I create a budget?\"],\n",
    "        \"responses\": [\n",
    "            \"To make a budget, track your income and expenses, prioritize essentials, and allocate savings.\",\n",
    "            \"A good budgeting strategy is the 50/30/20 rule: 50% essentials, 30% wants, 20% savings.\",\n",
    "            \"Start by setting financial goals, tracking expenses, and adjusting your spending habits.\"\n",
    "        ]\n",
    "    },\n",
    "    {\n",
    "        \"tag\": \"credit_score\",\n",
    "        \"patterns\": [\"What is a credit score?\", \"How do I check my credit score?\", \"How can I improve my credit score?\"],\n",
    "        \"responses\": [\n",
    "            \"A credit score represents your financial reliability. Higher scores help with loans and credit approvals.\",\n",
    "            \"Check your credit score on platforms like Credit Karma or your bank’s online portal.\",\n",
    "            \"Improve your credit score by paying bills on time, reducing debt, and maintaining a good credit history.\"\n",
    "        ]\n",
    "    },\n",
    "    {\n",
    "        \"tag\": \"joke\",\n",
    "        \"patterns\": [\"Tell me a joke\", \"Make me laugh\", \"Say something funny\"],\n",
    "        \"responses\": [\n",
    "            \"Why don’t robots have brothers? Because they all share the same motherboard!\",\n",
    "            \"Why did the chatbot break up with its AI girlfriend? Too many mixed signals!\",\n",
    "            \"I told my AI assistant a joke… but it didn’t have the data to process humor!\"\n",
    "        ]\n",
    "    },\n",
    "    {\n",
    "        \"tag\": \"motivation\",\n",
    "        \"patterns\": [\"Motivate me\", \"Give me motivation\", \"Say something inspiring\"],\n",
    "        \"responses\": [\n",
    "            \"Keep pushing forward! Every small step leads to big changes.\",\n",
    "            \"Believe in yourself, and you’re already halfway to success!\",\n",
    "            \"Hard work beats talent when talent doesn’t work hard.\"\n",
    "        ]\n",
    "    }\n",
    "]"
   ]
  },
  {
   "cell_type": "code",
   "execution_count": null,
   "id": "29ee2f0d-dfc0-4021-a266-7fc7e557f88b",
   "metadata": {},
   "outputs": [],
   "source": []
  }
 ],
 "metadata": {
  "kernelspec": {
   "display_name": "nebula",
   "language": "python",
   "name": "python3"
  },
  "language_info": {
   "codemirror_mode": {
    "name": "ipython",
    "version": 3
   },
   "file_extension": ".py",
   "mimetype": "text/x-python",
   "name": "python",
   "nbconvert_exporter": "python",
   "pygments_lexer": "ipython3",
   "version": "3.12.9"
  }
 },
 "nbformat": 4,
 "nbformat_minor": 5
}
